{
  "nbformat": 4,
  "nbformat_minor": 0,
  "metadata": {
    "colab": {
      "private_outputs": true,
      "provenance": [],
      "collapsed_sections": []
    },
    "kernelspec": {
      "name": "python3",
      "display_name": "Python 3"
    },
    "language_info": {
      "name": "python"
    },
    "gpuClass": "standard"
  },
  "cells": [
    {
      "cell_type": "markdown",
      "source": [
        "# AccoMontage2"
      ],
      "metadata": {
        "id": "RXxEKeGPi1sQ"
      }
    },
    {
      "cell_type": "markdown",
      "source": [
        "## https://github.com/billyblu2000/AccoMontage2"
      ],
      "metadata": {
        "id": "0daX0Ju_iohh"
      }
    },
    {
      "cell_type": "markdown",
      "source": [
        "AccoMontage2 is a system capable of doing full-length song harmonization and accompaniment arrangement based on a lead melody. \n",
        "\n",
        "Based on AccoMontage, AccoMontage2 invents a harmonization module to generated chord progression, and provides a GUI to control the generating styles of chords and textures. \n",
        "\n",
        "Our paper AccoMontage2: A Complete Harmonization and Accompaniment Arrangement System is accepted by ISMIR 2022 (to be published)."
      ],
      "metadata": {
        "id": "PAstpFTBi0IM"
      }
    },
    {
      "cell_type": "markdown",
      "source": [
        "# Install dependencies"
      ],
      "metadata": {
        "id": "DROUuPU7jmys"
      }
    },
    {
      "cell_type": "code",
      "execution_count": null,
      "metadata": {
        "id": "8rXjDbwW2eOG"
      },
      "outputs": [],
      "source": [
        "!git clone https://github.com/billyblu2000/AccoMontage2"
      ]
    },
    {
      "cell_type": "code",
      "source": [
        "!pip install pretty_midi\n",
        "!apt install fluidsynth\n",
        "!pip install midi2audio\n",
        "!pip install gdown"
      ],
      "metadata": {
        "id": "JtcCERAe2tah"
      },
      "execution_count": null,
      "outputs": []
    },
    {
      "cell_type": "markdown",
      "source": [
        "# Import modules"
      ],
      "metadata": {
        "id": "blcLmIGgjtJ_"
      }
    },
    {
      "cell_type": "code",
      "source": [
        "import matplotlib.pyplot as plt\n",
        "from midi2audio import FluidSynth\n",
        "import pretty_midi\n",
        "import librosa.display\n",
        "from IPython.display import Audio"
      ],
      "metadata": {
        "id": "uKNA-9fmjqsm"
      },
      "execution_count": null,
      "outputs": []
    },
    {
      "cell_type": "markdown",
      "source": [
        "# Prep extra binaries"
      ],
      "metadata": {
        "id": "ZgiDzQpOjxDr"
      }
    },
    {
      "cell_type": "code",
      "source": [
        "!gdown https://drive.google.com/drive/folders/1z8oW16dZtdS06woHc7_rxserNJRrkc4s -O /content/ --folder"
      ],
      "metadata": {
        "id": "qSmuHKjS6OsZ"
      },
      "execution_count": null,
      "outputs": []
    },
    {
      "cell_type": "code",
      "source": [
        "!cp '/content/Data Files/model_master_final.pt' '/content/AccoMontage2/chorderator/static'\n",
        "!cp '/content/Data Files/edge_weights_0714.npz' '/content/AccoMontage2/chorderator/static'\n",
        "!cp '/content/Data Files/phrase_data0714.npz' '/content/AccoMontage2/chorderator/static'"
      ],
      "metadata": {
        "id": "v7RwSCKGPQ6L"
      },
      "execution_count": null,
      "outputs": []
    },
    {
      "cell_type": "markdown",
      "source": [
        "# Generate"
      ],
      "metadata": {
        "id": "_Od1L4abj3Nr"
      }
    },
    {
      "cell_type": "code",
      "source": [
        "%cd /content/AccoMontage2\n",
        "!python demo.py"
      ],
      "metadata": {
        "id": "Il9pmbKg2onV"
      },
      "execution_count": null,
      "outputs": []
    },
    {
      "cell_type": "markdown",
      "source": [
        "# Plot and play"
      ],
      "metadata": {
        "id": "q9yNrVjZj45e"
      }
    },
    {
      "cell_type": "markdown",
      "source": [
        "## Generated Chords"
      ],
      "metadata": {
        "id": "ymr8anVYlLM2"
      }
    },
    {
      "cell_type": "code",
      "source": [
        "print('Displaying resulting composition...')\n",
        "fname = '/content/AccoMontage2/hpps65_output_results/chord_gen'\n",
        "\n",
        "pm = pretty_midi.PrettyMIDI(fname + '.mid')\n",
        "\n",
        "# Retrieve piano roll of the MIDI file\n",
        "piano_roll = pm.get_piano_roll()\n",
        "\n",
        "plt.figure(figsize=(14, 5))\n",
        "librosa.display.specshow(piano_roll, x_axis='time', y_axis='cqt_note', fmin=1, hop_length=160, sr=16000, cmap=plt.cm.hot)\n",
        "plt.title(fname)\n",
        "\n",
        "FluidSynth(\"/usr/share/sounds/sf2/FluidR3_GM.sf2\", 16000).midi_to_audio(str(fname + '.mid'), str(fname + '.wav'))\n",
        "Audio(str(fname + '.wav'), rate=16000)"
      ],
      "metadata": {
        "id": "gehaMvG0jUmr"
      },
      "execution_count": null,
      "outputs": []
    },
    {
      "cell_type": "markdown",
      "source": [
        "## Generated Textured Chords"
      ],
      "metadata": {
        "id": "AjOmNEuuleBn"
      }
    },
    {
      "cell_type": "code",
      "source": [
        "print('Displaying resulting composition...')\n",
        "fname = '/content/AccoMontage2/hpps65_output_results/textured_chord_gen'\n",
        "\n",
        "pm = pretty_midi.PrettyMIDI(fname + '.mid')\n",
        "\n",
        "# Retrieve piano roll of the MIDI file\n",
        "piano_roll = pm.get_piano_roll()\n",
        "\n",
        "plt.figure(figsize=(14, 5))\n",
        "librosa.display.specshow(piano_roll, x_axis='time', y_axis='cqt_note', fmin=1, hop_length=160, sr=16000, cmap=plt.cm.hot)\n",
        "plt.title(fname)\n",
        "\n",
        "FluidSynth(\"/usr/share/sounds/sf2/FluidR3_GM.sf2\", 16000).midi_to_audio(str(fname + '.mid'), str(fname + '.wav'))\n",
        "Audio(str(fname + '.wav'), rate=16000)"
      ],
      "metadata": {
        "id": "VHcpGsGAlgv1"
      },
      "execution_count": null,
      "outputs": []
    },
    {
      "cell_type": "markdown",
      "source": [
        "# Congrats! You did it! :)"
      ],
      "metadata": {
        "id": "F4Nz1xwIkVIb"
      }
    }
  ]
}